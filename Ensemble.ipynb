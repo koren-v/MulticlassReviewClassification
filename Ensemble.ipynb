{
  "nbformat": 4,
  "nbformat_minor": 0,
  "metadata": {
    "colab": {
      "name": "Ensemble.ipynb",
      "provenance": [],
      "collapsed_sections": []
    },
    "kernelspec": {
      "name": "python3",
      "display_name": "Python 3"
    }
  },
  "cells": [
    {
      "cell_type": "code",
      "metadata": {
        "id": "1NpxNgjOxF2s",
        "colab_type": "code",
        "colab": {}
      },
      "source": [
        "import pickle\n",
        "import numpy as np\n",
        "from sklearn.model_selection import StratifiedShuffleSplit\n",
        "from sklearn.model_selection import cross_validate\n",
        "from sklearn.neighbors import KNeighborsClassifier\n",
        "from sklearn.metrics import f1_score, make_scorer"
      ],
      "execution_count": 0,
      "outputs": []
    },
    {
      "cell_type": "markdown",
      "metadata": {
        "id": "4EW2Xn1For1X",
        "colab_type": "text"
      },
      "source": [
        "To make a Bland we will need predictions from the previous step, which we saved, let's load them"
      ]
    },
    {
      "cell_type": "code",
      "metadata": {
        "id": "pZ2BxPEHwcxT",
        "colab_type": "code",
        "colab": {}
      },
      "source": [
        "with open('/content/drive/My Drive/test_task/review_preds.pickle', 'rb') as f:\n",
        "    review_preds = pickle.load(f)\n",
        "with open('/content/drive/My Drive/test_task/summury_preds.pickle', 'rb') as f:\n",
        "    summury_preds = pickle.load(f)\n",
        "with open('/content/drive/My Drive/test_task/target.pickle', 'rb') as f:\n",
        "    target = pickle.load(f)"
      ],
      "execution_count": 0,
      "outputs": []
    },
    {
      "cell_type": "markdown",
      "metadata": {
        "id": "rzpbUug1pD13",
        "colab_type": "text"
      },
      "source": [
        "Concatenate predictions of two Berts:"
      ]
    },
    {
      "cell_type": "code",
      "metadata": {
        "id": "GQ48-56lyQbU",
        "colab_type": "code",
        "colab": {}
      },
      "source": [
        "features = np.hstack((review_preds,summury_preds))"
      ],
      "execution_count": 0,
      "outputs": []
    },
    {
      "cell_type": "code",
      "metadata": {
        "id": "3A16B__U_hTZ",
        "colab_type": "code",
        "colab": {}
      },
      "source": [
        "target = np.array(target)"
      ],
      "execution_count": 0,
      "outputs": []
    },
    {
      "cell_type": "markdown",
      "metadata": {
        "id": "z9WdiWAzpiJk",
        "colab_type": "text"
      },
      "source": [
        "I would like to choose KNN as it can fit well on difficult data (don't think that difference of predictions of Berts will be big, but anyway, let's use it)  "
      ]
    },
    {
      "cell_type": "code",
      "metadata": {
        "id": "rWb11XTU06DE",
        "colab_type": "code",
        "colab": {}
      },
      "source": [
        "neigh = KNeighborsClassifier(n_neighbors=35)\n",
        "\n",
        "f1 = make_scorer(f1_score, average='micro')"
      ],
      "execution_count": 0,
      "outputs": []
    },
    {
      "cell_type": "markdown",
      "metadata": {
        "id": "LL9_VsWDqeXw",
        "colab_type": "text"
      },
      "source": [
        "Firstly, let's check the model on cross-validation:\n"
      ]
    },
    {
      "cell_type": "code",
      "metadata": {
        "id": "vQAH3wI5z_xS",
        "colab_type": "code",
        "outputId": "1ee97d77-799f-4450-bb62-cf226118ad52",
        "colab": {
          "base_uri": "https://localhost:8080/",
          "height": 51
        }
      },
      "source": [
        "res = cross_validate(neigh, features, target, scoring=f1, n_jobs=-1, cv=3, return_train_score=True, verbose=1)"
      ],
      "execution_count": 0,
      "outputs": [
        {
          "output_type": "stream",
          "text": [
            "[Parallel(n_jobs=-1)]: Using backend LokyBackend with 2 concurrent workers.\n",
            "[Parallel(n_jobs=-1)]: Done   3 out of   3 | elapsed:   11.8s finished\n"
          ],
          "name": "stderr"
        }
      ]
    },
    {
      "cell_type": "code",
      "metadata": {
        "id": "icneAUc81IAU",
        "colab_type": "code",
        "outputId": "694092ab-d9d8-471f-a281-858c7617bf94",
        "colab": {
          "base_uri": "https://localhost:8080/",
          "height": 51
        }
      },
      "source": [
        "print('Test F1: % 0.4f \\nTrain F1: % 0.4f ' % (np.mean(res['test_score']), \n",
        "                                               np.mean(res['train_score'])))"
      ],
      "execution_count": 0,
      "outputs": [
        {
          "output_type": "stream",
          "text": [
            "Test F1:  0.7716 \n",
            "Train F1:  0.7804 \n"
          ],
          "name": "stdout"
        }
      ]
    },
    {
      "cell_type": "markdown",
      "metadata": {
        "id": "eeKg1PrqqxCv",
        "colab_type": "text"
      },
      "source": [
        "As I expected this model will get better performance, than two Bert's separately. Also, I want to note that I choose a number of neighbors - 35 that can make our model more robust to overfitting."
      ]
    },
    {
      "cell_type": "code",
      "metadata": {
        "id": "jBae7Ztc3w23",
        "colab_type": "code",
        "outputId": "4a51f5f5-1414-42f4-ac07-a61f3fdcec31",
        "colab": {
          "base_uri": "https://localhost:8080/",
          "height": 68
        }
      },
      "source": [
        "neigh.fit(features, target)"
      ],
      "execution_count": 0,
      "outputs": [
        {
          "output_type": "execute_result",
          "data": {
            "text/plain": [
              "KNeighborsClassifier(algorithm='auto', leaf_size=30, metric='minkowski',\n",
              "                     metric_params=None, n_jobs=None, n_neighbors=35, p=2,\n",
              "                     weights='uniform')"
            ]
          },
          "metadata": {
            "tags": []
          },
          "execution_count": 9
        }
      ]
    },
    {
      "cell_type": "markdown",
      "metadata": {
        "id": "V6dVQ7YnroPq",
        "colab_type": "text"
      },
      "source": [
        "Saving model to evaluate in future:"
      ]
    },
    {
      "cell_type": "code",
      "metadata": {
        "id": "rPlObyWAA5V0",
        "colab_type": "code",
        "colab": {}
      },
      "source": [
        "with open('/content/drive/My Drive/test_task/neigh.pickle', 'wb') as f:\n",
        "    pickle.dump(neigh, f)"
      ],
      "execution_count": 0,
      "outputs": []
    },
    {
      "cell_type": "markdown",
      "metadata": {
        "id": "JYRScvTIthet",
        "colab_type": "text"
      },
      "source": [
        "Also, I would like to have a look at performance, if we would just average predictions that we have."
      ]
    },
    {
      "cell_type": "code",
      "metadata": {
        "id": "dZdjFXnBBWxT",
        "colab_type": "code",
        "colab": {}
      },
      "source": [
        "simple_vote = np.argmax((review_preds + summury_preds), axis = 1)"
      ],
      "execution_count": 0,
      "outputs": []
    },
    {
      "cell_type": "code",
      "metadata": {
        "id": "YeHIhUK2tFR-",
        "colab_type": "code",
        "outputId": "b600614b-12ed-437e-92cd-323695cd4a55",
        "colab": {
          "base_uri": "https://localhost:8080/",
          "height": 34
        }
      },
      "source": [
        "f1_score(target, simple_vote, average='micro')"
      ],
      "execution_count": 0,
      "outputs": [
        {
          "output_type": "execute_result",
          "data": {
            "text/plain": [
              "0.76605"
            ]
          },
          "metadata": {
            "tags": []
          },
          "execution_count": 14
        }
      ]
    },
    {
      "cell_type": "markdown",
      "metadata": {
        "id": "zcmoqRW7t8g7",
        "colab_type": "text"
      },
      "source": [
        "Obviously looks worse then KNN's"
      ]
    },
    {
      "cell_type": "code",
      "metadata": {
        "id": "dSv3C50ptgMY",
        "colab_type": "code",
        "colab": {}
      },
      "source": [
        ""
      ],
      "execution_count": 0,
      "outputs": []
    }
  ]
}