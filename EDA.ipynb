{
  "nbformat": 4,
  "nbformat_minor": 0,
  "metadata": {
    "colab": {
      "name": "EDA.ipynb",
      "provenance": [],
      "collapsed_sections": []
    },
    "kernelspec": {
      "name": "python3",
      "display_name": "Python 3"
    }
  },
  "cells": [
    {
      "cell_type": "code",
      "metadata": {
        "id": "bmtsgz2I9l1h",
        "colab_type": "code",
        "outputId": "bcb858c0-89b7-48fc-cf46-bb352a77a6d1",
        "colab": {
          "base_uri": "https://localhost:8080/",
          "height": 34
        }
      },
      "source": [
        "!pip install vaderSentiment"
      ],
      "execution_count": 0,
      "outputs": [
        {
          "output_type": "stream",
          "text": [
            "Requirement already satisfied: vaderSentiment in /usr/local/lib/python3.6/dist-packages (3.2.1)\n"
          ],
          "name": "stdout"
        }
      ]
    },
    {
      "cell_type": "code",
      "metadata": {
        "id": "H-roo_6DzVUe",
        "colab_type": "code",
        "colab": {}
      },
      "source": [
        "import matplotlib.pyplot as plt\n",
        "import seaborn as sns"
      ],
      "execution_count": 0,
      "outputs": []
    },
    {
      "cell_type": "markdown",
      "metadata": {
        "id": "lGxeu6phCX9s",
        "colab_type": "text"
      },
      "source": [
        "First, lets just have a look at given data:"
      ]
    },
    {
      "cell_type": "code",
      "metadata": {
        "id": "ZjyZ2Dqay-_L",
        "colab_type": "code",
        "outputId": "3f439989-4a56-496f-d9b6-187c25b09e7f",
        "colab": {
          "base_uri": "https://localhost:8080/",
          "height": 289
        }
      },
      "source": [
        "import pandas as pd\n",
        "df = pd.read_json(\"/content/drive/My Drive/test_task/reviews.json\", lines=True)\n",
        "df.head()"
      ],
      "execution_count": 0,
      "outputs": [
        {
          "output_type": "execute_result",
          "data": {
            "text/html": [
              "<div>\n",
              "<style scoped>\n",
              "    .dataframe tbody tr th:only-of-type {\n",
              "        vertical-align: middle;\n",
              "    }\n",
              "\n",
              "    .dataframe tbody tr th {\n",
              "        vertical-align: top;\n",
              "    }\n",
              "\n",
              "    .dataframe thead th {\n",
              "        text-align: right;\n",
              "    }\n",
              "</style>\n",
              "<table border=\"1\" class=\"dataframe\">\n",
              "  <thead>\n",
              "    <tr style=\"text-align: right;\">\n",
              "      <th></th>\n",
              "      <th>overall</th>\n",
              "      <th>verified</th>\n",
              "      <th>reviewTime</th>\n",
              "      <th>reviewerID</th>\n",
              "      <th>asin</th>\n",
              "      <th>style</th>\n",
              "      <th>reviewerName</th>\n",
              "      <th>reviewText</th>\n",
              "      <th>summary</th>\n",
              "      <th>unixReviewTime</th>\n",
              "      <th>vote</th>\n",
              "      <th>image</th>\n",
              "    </tr>\n",
              "  </thead>\n",
              "  <tbody>\n",
              "    <tr>\n",
              "      <th>0</th>\n",
              "      <td>4</td>\n",
              "      <td>False</td>\n",
              "      <td>05 1, 2015</td>\n",
              "      <td>A8WEXFRWX1ZHH</td>\n",
              "      <td>0209688726</td>\n",
              "      <td>{'Color:': ' AC'}</td>\n",
              "      <td>Goldengate</td>\n",
              "      <td>After I wrote the below review, the manufactur...</td>\n",
              "      <td>Works well if you place phone in horizontally ...</td>\n",
              "      <td>1430438400</td>\n",
              "      <td>NaN</td>\n",
              "      <td>NaN</td>\n",
              "    </tr>\n",
              "    <tr>\n",
              "      <th>1</th>\n",
              "      <td>1</td>\n",
              "      <td>True</td>\n",
              "      <td>04 19, 2018</td>\n",
              "      <td>ABCA1A8E4DGV1</td>\n",
              "      <td>0209688726</td>\n",
              "      <td>{'Color:': ' Blue'}</td>\n",
              "      <td>noe</td>\n",
              "      <td>It sucks barely picks up anything definitely n...</td>\n",
              "      <td>sucks</td>\n",
              "      <td>1524096000</td>\n",
              "      <td>NaN</td>\n",
              "      <td>NaN</td>\n",
              "    </tr>\n",
              "    <tr>\n",
              "      <th>2</th>\n",
              "      <td>1</td>\n",
              "      <td>True</td>\n",
              "      <td>04 16, 2018</td>\n",
              "      <td>A1NX8HM89FRQ32</td>\n",
              "      <td>0209688726</td>\n",
              "      <td>{'Color:': ' Black'}</td>\n",
              "      <td>Eduard</td>\n",
              "      <td>Well to write a short one, it blew 2 fuses of ...</td>\n",
              "      <td>Defective</td>\n",
              "      <td>1523836800</td>\n",
              "      <td>NaN</td>\n",
              "      <td>NaN</td>\n",
              "    </tr>\n",
              "    <tr>\n",
              "      <th>3</th>\n",
              "      <td>3</td>\n",
              "      <td>True</td>\n",
              "      <td>04 13, 2018</td>\n",
              "      <td>A1X77G023NY0KY</td>\n",
              "      <td>0209688726</td>\n",
              "      <td>{'Color:': ' CA'}</td>\n",
              "      <td>Lauren</td>\n",
              "      <td>I have absolutely no memory of buying this but...</td>\n",
              "      <td>Looks cool! Probably works</td>\n",
              "      <td>1523577600</td>\n",
              "      <td>NaN</td>\n",
              "      <td>NaN</td>\n",
              "    </tr>\n",
              "    <tr>\n",
              "      <th>4</th>\n",
              "      <td>5</td>\n",
              "      <td>True</td>\n",
              "      <td>04 8, 2018</td>\n",
              "      <td>A3GK37JO2MGW6Q</td>\n",
              "      <td>0209688726</td>\n",
              "      <td>{'Color:': ' Black'}</td>\n",
              "      <td>danny</td>\n",
              "      <td>it ok it does it job</td>\n",
              "      <td>Five Stars</td>\n",
              "      <td>1523145600</td>\n",
              "      <td>NaN</td>\n",
              "      <td>NaN</td>\n",
              "    </tr>\n",
              "  </tbody>\n",
              "</table>\n",
              "</div>"
            ],
            "text/plain": [
              "   overall  verified   reviewTime  ... unixReviewTime vote image\n",
              "0        4     False   05 1, 2015  ...     1430438400  NaN   NaN\n",
              "1        1      True  04 19, 2018  ...     1524096000  NaN   NaN\n",
              "2        1      True  04 16, 2018  ...     1523836800  NaN   NaN\n",
              "3        3      True  04 13, 2018  ...     1523577600  NaN   NaN\n",
              "4        5      True   04 8, 2018  ...     1523145600  NaN   NaN\n",
              "\n",
              "[5 rows x 12 columns]"
            ]
          },
          "metadata": {
            "tags": []
          },
          "execution_count": 21
        }
      ]
    },
    {
      "cell_type": "markdown",
      "metadata": {
        "id": "lIxjy4DTDBAH",
        "colab_type": "text"
      },
      "source": [
        "Some overall info:"
      ]
    },
    {
      "cell_type": "code",
      "metadata": {
        "id": "CY7BKLEN0n3m",
        "colab_type": "code",
        "outputId": "ac5ccb6e-a027-4864-adbd-b55a9f77cb08",
        "colab": {
          "base_uri": "https://localhost:8080/",
          "height": 306
        }
      },
      "source": [
        "df.info()"
      ],
      "execution_count": 0,
      "outputs": [
        {
          "output_type": "stream",
          "text": [
            "<class 'pandas.core.frame.DataFrame'>\n",
            "RangeIndex: 1000000 entries, 0 to 999999\n",
            "Data columns (total 12 columns):\n",
            "overall           1000000 non-null int64\n",
            "verified          1000000 non-null bool\n",
            "reviewTime        1000000 non-null object\n",
            "reviewerID        1000000 non-null object\n",
            "asin              1000000 non-null object\n",
            "style             358331 non-null object\n",
            "reviewerName      999917 non-null object\n",
            "reviewText        999636 non-null object\n",
            "summary           999862 non-null object\n",
            "unixReviewTime    1000000 non-null int64\n",
            "vote              121947 non-null object\n",
            "image             16345 non-null object\n",
            "dtypes: bool(1), int64(2), object(9)\n",
            "memory usage: 84.9+ MB\n"
          ],
          "name": "stdout"
        }
      ]
    },
    {
      "cell_type": "markdown",
      "metadata": {
        "id": "7DFrfKyGENtn",
        "colab_type": "text"
      },
      "source": [
        "Let's consider at column 'summary'. I think that this is a customer's review in short. "
      ]
    },
    {
      "cell_type": "code",
      "metadata": {
        "id": "1BokBlcr0QEp",
        "colab_type": "code",
        "outputId": "389d3223-e997-4800-a617-28ac54c1d3e5",
        "colab": {
          "base_uri": "https://localhost:8080/",
          "height": 204
        }
      },
      "source": [
        "df.summary.value_counts().iloc[:10]"
      ],
      "execution_count": 0,
      "outputs": [
        {
          "output_type": "execute_result",
          "data": {
            "text/plain": [
              "Five Stars       246158\n",
              "Four Stars        41040\n",
              "Three Stars       13583\n",
              "One Star           7035\n",
              "Two Stars          4950\n",
              "Great product      3069\n",
              "Great              2680\n",
              "Perfect            2290\n",
              "Good product       2128\n",
              "Works great        2039\n",
              "Name: summary, dtype: int64"
            ]
          },
          "metadata": {
            "tags": []
          },
          "execution_count": 23
        }
      ]
    },
    {
      "cell_type": "markdown",
      "metadata": {
        "id": "QW9DliChExah",
        "colab_type": "text"
      },
      "source": [
        "Hmm, the first five values look like default values for this field. Let's take a closer look: I suppose, that correlation between target and summary field will be hight in rows with these values."
      ]
    },
    {
      "cell_type": "code",
      "metadata": {
        "id": "k5uHAzCtzbdh",
        "colab_type": "code",
        "outputId": "a99d6429-15fe-427f-c355-47d2122a5bbd",
        "colab": {
          "base_uri": "https://localhost:8080/",
          "height": 204
        }
      },
      "source": [
        "five = df[df['summary']=='Five Stars']['overall'].value_counts()\n",
        "four = df[df['summary']=='Four Stars']['overall'].value_counts()\n",
        "three = df[df['summary']=='Three Stars']['overall'].value_counts()\n",
        "two = df[df['summary']=='Two Stars']['overall'].value_counts()\n",
        "one = df[df['summary']=='One Star']['overall'].value_counts()\n",
        "\n",
        "frame = {'Five Stars': five, 'Four Stars': four,'Three Stars': three, 'Two Star': two, 'One Star': one}\n",
        "pd.DataFrame(frame)"
      ],
      "execution_count": 0,
      "outputs": [
        {
          "output_type": "execute_result",
          "data": {
            "text/html": [
              "<div>\n",
              "<style scoped>\n",
              "    .dataframe tbody tr th:only-of-type {\n",
              "        vertical-align: middle;\n",
              "    }\n",
              "\n",
              "    .dataframe tbody tr th {\n",
              "        vertical-align: top;\n",
              "    }\n",
              "\n",
              "    .dataframe thead th {\n",
              "        text-align: right;\n",
              "    }\n",
              "</style>\n",
              "<table border=\"1\" class=\"dataframe\">\n",
              "  <thead>\n",
              "    <tr style=\"text-align: right;\">\n",
              "      <th></th>\n",
              "      <th>Five Stars</th>\n",
              "      <th>Four Stars</th>\n",
              "      <th>Three Stars</th>\n",
              "      <th>Two Star</th>\n",
              "      <th>One Star</th>\n",
              "    </tr>\n",
              "  </thead>\n",
              "  <tbody>\n",
              "    <tr>\n",
              "      <th>1</th>\n",
              "      <td>67</td>\n",
              "      <td>14</td>\n",
              "      <td>15</td>\n",
              "      <td>23</td>\n",
              "      <td>7003</td>\n",
              "    </tr>\n",
              "    <tr>\n",
              "      <th>2</th>\n",
              "      <td>37</td>\n",
              "      <td>5</td>\n",
              "      <td>13</td>\n",
              "      <td>4912</td>\n",
              "      <td>2</td>\n",
              "    </tr>\n",
              "    <tr>\n",
              "      <th>3</th>\n",
              "      <td>32</td>\n",
              "      <td>11</td>\n",
              "      <td>13520</td>\n",
              "      <td>8</td>\n",
              "      <td>5</td>\n",
              "    </tr>\n",
              "    <tr>\n",
              "      <th>4</th>\n",
              "      <td>32</td>\n",
              "      <td>40964</td>\n",
              "      <td>19</td>\n",
              "      <td>4</td>\n",
              "      <td>5</td>\n",
              "    </tr>\n",
              "    <tr>\n",
              "      <th>5</th>\n",
              "      <td>245990</td>\n",
              "      <td>46</td>\n",
              "      <td>16</td>\n",
              "      <td>3</td>\n",
              "      <td>20</td>\n",
              "    </tr>\n",
              "  </tbody>\n",
              "</table>\n",
              "</div>"
            ],
            "text/plain": [
              "   Five Stars  Four Stars  Three Stars  Two Star  One Star\n",
              "1          67          14           15        23      7003\n",
              "2          37           5           13      4912         2\n",
              "3          32          11        13520         8         5\n",
              "4          32       40964           19         4         5\n",
              "5      245990          46           16         3        20"
            ]
          },
          "metadata": {
            "tags": []
          },
          "execution_count": 24
        }
      ]
    },
    {
      "cell_type": "markdown",
      "metadata": {
        "id": "WPeJgBjrFp3R",
        "colab_type": "text"
      },
      "source": [
        "As I expected :)\n",
        "\n",
        "We even can avoid ML approaches to these rows... So, will see."
      ]
    },
    {
      "cell_type": "markdown",
      "metadata": {
        "id": "jcjrs7OmGLWD",
        "colab_type": "text"
      },
      "source": [
        "Let's have a look at columns: vote, verified, image, style too.\n",
        "\n",
        "Probably reviews with the high vote will be positive. I suppose that verified can also be correlated with the target. Style - don't know what exactly means, but let's try. The same point with the image field."
      ]
    },
    {
      "cell_type": "code",
      "metadata": {
        "id": "ms7jWtdZ2rK0",
        "colab_type": "code",
        "outputId": "6c2762f8-dacf-492a-b7cf-25292a1043bf",
        "colab": {
          "base_uri": "https://localhost:8080/",
          "height": 204
        }
      },
      "source": [
        "df.vote.value_counts().iloc[:10]"
      ],
      "execution_count": 0,
      "outputs": [
        {
          "output_type": "execute_result",
          "data": {
            "text/plain": [
              "2     45953\n",
              "3     23375\n",
              "4     13601\n",
              "5      8583\n",
              "6      5997\n",
              "7      4107\n",
              "8      3168\n",
              "9      2408\n",
              "10     1897\n",
              "11     1528\n",
              "Name: vote, dtype: int64"
            ]
          },
          "metadata": {
            "tags": []
          },
          "execution_count": 25
        }
      ]
    },
    {
      "cell_type": "code",
      "metadata": {
        "id": "VwETNILx4_06",
        "colab_type": "code",
        "outputId": "03cb6ecb-6f5f-4e2c-f61b-83a8ba8a7374",
        "colab": {
          "base_uri": "https://localhost:8080/",
          "height": 68
        }
      },
      "source": [
        "df.verified.value_counts()"
      ],
      "execution_count": 0,
      "outputs": [
        {
          "output_type": "execute_result",
          "data": {
            "text/plain": [
              "True     947137\n",
              "False     52863\n",
              "Name: verified, dtype: int64"
            ]
          },
          "metadata": {
            "tags": []
          },
          "execution_count": 26
        }
      ]
    },
    {
      "cell_type": "code",
      "metadata": {
        "id": "CAsAyMsA5fAO",
        "colab_type": "code",
        "outputId": "a3fd99bc-a30a-4d0e-84b0-6190c625f0f6",
        "colab": {
          "base_uri": "https://localhost:8080/",
          "height": 34
        }
      },
      "source": [
        "df['style'].astype(str).nunique()"
      ],
      "execution_count": 0,
      "outputs": [
        {
          "output_type": "execute_result",
          "data": {
            "text/plain": [
              "11703"
            ]
          },
          "metadata": {
            "tags": []
          },
          "execution_count": 27
        }
      ]
    },
    {
      "cell_type": "markdown",
      "metadata": {
        "id": "5-pOHGNAHu8U",
        "colab_type": "text"
      },
      "source": [
        "I will pick these features to separate dataframe to visualize the correlation"
      ]
    },
    {
      "cell_type": "code",
      "metadata": {
        "id": "sfQ8zxkz54Ww",
        "colab_type": "code",
        "colab": {}
      },
      "source": [
        "image = df.image.isna()\n",
        "style = df['style'].astype(str)\n",
        "verified = df.verified.astype(int)\n",
        "vote = df.vote.iloc[:].str.replace(',', '.').astype(float).fillna(0)\n",
        "target = df.overall\n",
        "\n",
        "frame = {'image': image, 'style': style, 'vote': vote, 'verified': verified, 'target': target}\n",
        "corr = pd.DataFrame(frame)"
      ],
      "execution_count": 0,
      "outputs": []
    },
    {
      "cell_type": "code",
      "metadata": {
        "id": "RfPSlYst7yxs",
        "colab_type": "code",
        "outputId": "d4dfa6ae-b321-4eef-d69b-1322b487899f",
        "colab": {
          "base_uri": "https://localhost:8080/",
          "height": 499
        }
      },
      "source": [
        "plt.figure(figsize = (9, 8))\n",
        "\n",
        "sns.heatmap(corr.corr(), cmap = plt.cm.RdYlBu_r, vmin = -1.0, annot = True, vmax = 1.0)\n",
        "plt.title('Correlation plot')\n",
        "plt.show()"
      ],
      "execution_count": 0,
      "outputs": [
        {
          "output_type": "display_data",
          "data": {
            "image/png": "[encoded data removed]",
            "text/plain": [
              "<Figure size 648x576 with 2 Axes>"
            ]
          },
          "metadata": {
            "tags": []
          }
        }
      ]
    },
    {
      "cell_type": "markdown",
      "metadata": {
        "id": "cBsAOzXIIHcK",
        "colab_type": "text"
      },
      "source": [
        "Ops, my assumptions were wrong. Maybe these features are useless in our case."
      ]
    },
    {
      "cell_type": "markdown",
      "metadata": {
        "id": "EvB8QXmHIfVh",
        "colab_type": "text"
      },
      "source": [
        "Also, I would like to try Vader. Using this tool you can extract how much text is positive, negative and so on. I think that it have a sense."
      ]
    },
    {
      "cell_type": "code",
      "metadata": {
        "id": "jvGHSOEn80fu",
        "colab_type": "code",
        "colab": {}
      },
      "source": [
        "from vaderSentiment.vaderSentiment import SentimentIntensityAnalyzer\n",
        "from sklearn.model_selection import StratifiedShuffleSplit\n",
        "\n",
        "analyzer = SentimentIntensityAnalyzer()"
      ],
      "execution_count": 0,
      "outputs": []
    },
    {
      "cell_type": "markdown",
      "metadata": {
        "id": "A1WulA1oJPZQ",
        "colab_type": "text"
      },
      "source": [
        "Let's make subsample as it can take much time to calculate metrics for all million rows. We will use StratifiedShuffleSplit to get a good representative subsample."
      ]
    },
    {
      "cell_type": "code",
      "metadata": {
        "id": "NNxeEaUmBgyb",
        "colab_type": "code",
        "colab": {}
      },
      "source": [
        "sss = StratifiedShuffleSplit(n_splits=2, test_size=0.1, random_state=0)\n",
        "_, sample_index = next(sss.split(df['summary'], target))\n",
        "\n",
        "sub_sample = df.iloc[sample_index]"
      ],
      "execution_count": 0,
      "outputs": []
    },
    {
      "cell_type": "code",
      "metadata": {
        "id": "Yzx_J47z9jAU",
        "colab_type": "code",
        "colab": {}
      },
      "source": [
        "target = pd.DataFrame(target.iloc[sample_index])\n",
        "\n",
        "for column in ['reviewText', 'summary']:\n",
        "\n",
        "    sent_list = []\n",
        "    for sentiment in sub_sample[column].astype(str):\n",
        "        sentiments = analyzer.polarity_scores(sentiment)\n",
        "        list_temp=[]\n",
        "        for key, value in sentiments.items():\n",
        "            temp = value\n",
        "            list_temp.append(temp)\n",
        "        sent_list.append(list_temp)\n",
        "\n",
        "    temp_df = pd.DataFrame(sent_list, columns=['compound','neg','neu','pos'], index=sub_sample.index)\n",
        "    target = pd.merge(target, temp_df, left_index=True,right_index=True)"
      ],
      "execution_count": 0,
      "outputs": []
    },
    {
      "cell_type": "markdown",
      "metadata": {
        "id": "N6rnnPpAJ4D2",
        "colab_type": "text"
      },
      "source": [
        "And the same visualization:"
      ]
    },
    {
      "cell_type": "code",
      "metadata": {
        "id": "FxzfC-A3-hmB",
        "colab_type": "code",
        "outputId": "b8572fa6-40e5-454d-dfbc-c93d32f58470",
        "colab": {
          "base_uri": "https://localhost:8080/",
          "height": 552
        }
      },
      "source": [
        "plt.figure(figsize = (9, 8))\n",
        "\n",
        "sns.heatmap(target.corr(), cmap = plt.cm.RdYlBu_r, vmin = -1.0, annot = True, vmax = 1.0)\n",
        "plt.title('Correlation plot');"
      ],
      "execution_count": 0,
      "outputs": [
        {
          "output_type": "display_data",
          "data": {
            "image/png": "[encoded data removed]",
            "text/plain": [
              "<Figure size 648x576 with 2 Axes>"
            ]
          },
          "metadata": {
            "tags": []
          }
        }
      ]
    },
    {
      "cell_type": "markdown",
      "metadata": {
        "id": "LyFp4DhTKOkj",
        "colab_type": "text"
      },
      "source": [
        "Hmm, I wouldn't say that even 0.36 is a good reason to waste time on building the model on these features. Yes, probably there is a non-linear correlation, but as I expected linear I will not stop at this step."
      ]
    },
    {
      "cell_type": "code",
      "metadata": {
        "id": "vpo15bgnMDC7",
        "colab_type": "code",
        "colab": {}
      },
      "source": [
        ""
      ],
      "execution_count": 0,
      "outputs": []
    }
  ]
}